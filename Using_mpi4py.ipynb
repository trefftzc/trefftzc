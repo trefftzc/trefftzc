{
  "nbformat": 4,
  "nbformat_minor": 0,
  "metadata": {
    "colab": {
      "provenance": [],
      "authorship_tag": "ABX9TyOAzZGlr+6se49nQs7583P6",
      "include_colab_link": true
    },
    "kernelspec": {
      "name": "python3",
      "display_name": "Python 3"
    },
    "language_info": {
      "name": "python"
    }
  },
  "cells": [
    {
      "cell_type": "markdown",
      "metadata": {
        "id": "view-in-github",
        "colab_type": "text"
      },
      "source": [
        "<a href=\"https://colab.research.google.com/github/trefftzc/trefftzc/blob/main/Using_mpi4py.ipynb\" target=\"_parent\"><img src=\"https://colab.research.google.com/assets/colab-badge.svg\" alt=\"Open In Colab\"/></a>"
      ]
    },
    {
      "cell_type": "code",
      "execution_count": null,
      "metadata": {
        "id": "kQjqFwLFlZLk"
      },
      "outputs": [],
      "source": []
    },
    {
      "cell_type": "markdown",
      "source": [
        "# Exploring mpi4py on COLAB"
      ],
      "metadata": {
        "id": "MPFEVLJflZ4n"
      }
    },
    {
      "cell_type": "markdown",
      "source": [
        "Install mpi4py"
      ],
      "metadata": {
        "id": "QxHXX5XImIDv"
      }
    },
    {
      "cell_type": "code",
      "source": [
        "!pip install mpi4py"
      ],
      "metadata": {
        "colab": {
          "base_uri": "https://localhost:8080/"
        },
        "id": "-XGoomSYlfwe",
        "outputId": "b949a6cf-9e53-40a3-bcca-aab4bcb67a4e"
      },
      "execution_count": 1,
      "outputs": [
        {
          "output_type": "stream",
          "name": "stdout",
          "text": [
            "Collecting mpi4py\n",
            "  Downloading mpi4py-3.1.5.tar.gz (2.5 MB)\n",
            "\u001b[2K     \u001b[90m━━━━━━━━━━━━━━━━━━━━━━━━━━━━━━━━━━━━━━━━\u001b[0m \u001b[32m2.5/2.5 MB\u001b[0m \u001b[31m8.2 MB/s\u001b[0m eta \u001b[36m0:00:00\u001b[0m\n",
            "\u001b[?25h  Installing build dependencies ... \u001b[?25l\u001b[?25hdone\n",
            "  Getting requirements to build wheel ... \u001b[?25l\u001b[?25hdone\n",
            "  Preparing metadata (pyproject.toml) ... \u001b[?25l\u001b[?25hdone\n",
            "Building wheels for collected packages: mpi4py\n",
            "  Building wheel for mpi4py (pyproject.toml) ... \u001b[?25l\u001b[?25hdone\n",
            "  Created wheel for mpi4py: filename=mpi4py-3.1.5-cp310-cp310-linux_x86_64.whl size=2746506 sha256=ed0b5dbd517a38ac522f1bee8b075b95c65d69529471ef67070b8d2479df758f\n",
            "  Stored in directory: /root/.cache/pip/wheels/18/2b/7f/c852523089e9182b45fca50ff56f49a51eeb6284fd25a66713\n",
            "Successfully built mpi4py\n",
            "Installing collected packages: mpi4py\n",
            "Successfully installed mpi4py-3.1.5\n"
          ]
        }
      ]
    },
    {
      "cell_type": "markdown",
      "source": [
        "Create a file in a cell and then run it."
      ],
      "metadata": {
        "id": "Gg6sG1ELmKI2"
      }
    },
    {
      "cell_type": "code",
      "source": [
        "%%writefile example.py\n",
        "\n",
        "from mpi4py import MPI\n",
        "\n",
        "comm = MPI.COMM_WORLD\n",
        "rank = comm.Get_rank()\n",
        "\n",
        "if rank == 0:\n",
        "    data = {'a': 7, 'b': 3.14}\n",
        "    comm.send(data, dest=1, tag=11)\n",
        "elif rank == 1:\n",
        "    data = comm.recv(source=0, tag=11)"
      ],
      "metadata": {
        "colab": {
          "base_uri": "https://localhost:8080/"
        },
        "id": "wEVxWPwymQD1",
        "outputId": "208cc301-991f-4885-8c2d-1aa89e3333dd"
      },
      "execution_count": 2,
      "outputs": [
        {
          "output_type": "stream",
          "name": "stdout",
          "text": [
            "Writing example.py\n"
          ]
        }
      ]
    },
    {
      "cell_type": "code",
      "source": [
        "!OMPI_ALLOW_RUN_AS_ROOT=1\n",
        "!OMPI_ALLOW_RUN_AS_ROOT=1\n",
        "!mpiexec --allow-run-as-root -n 2 --oversubscribe python example.py"
      ],
      "metadata": {
        "id": "x-7PL7fsnCT3"
      },
      "execution_count": 3,
      "outputs": []
    },
    {
      "cell_type": "markdown",
      "source": [
        "Solving the partition problem with MPI."
      ],
      "metadata": {
        "id": "o4HE-biwRk37"
      }
    },
    {
      "cell_type": "code",
      "source": [
        "%%writefile partition_mpi.py\n",
        "\n",
        "from mpi4py import MPI\n",
        "\n",
        "def evaluatePartition(  value,  n, array) :\n",
        "   sum0s = 0\n",
        "   sum1s = 0\n",
        "   mask = 1\n",
        "   for i in range(0,n):\n",
        "     if ((mask & value) != 0):\n",
        "       sum1s = sum1s + array[i]\n",
        "     else:\n",
        "       sum0s = sum0s + array[i]\n",
        "     mask = mask * 2\n",
        "\n",
        "   if (sum0s == sum1s):\n",
        "     return 1\n",
        "   else:\n",
        "     return 0\n",
        "\n",
        "def printResults(value, n, array):\n",
        "  print(\"Solution:\\n\")\n",
        "  print(\"First partition: \")\n",
        "  mask = 1\n",
        "  sum = 0\n",
        "  for i in range(0,n):\n",
        "    if ((mask & value) != 0):\n",
        "      print(array[i],\" \")\n",
        "      sum = sum + array[i]\n",
        "    mask = mask * 2\n",
        "\n",
        "  print(\" sum: \",sum)\n",
        "  print(\"Second partition: \")\n",
        "  mask = 1\n",
        "  sum = 0\n",
        "  for i in range(0,n):\n",
        "    if ((mask & value) == 0):\n",
        "      print(array[i],\" \")\n",
        "      sum = sum + array[i]\n",
        "    mask = mask * 2\n",
        "  print(\" sum: \\n\",sum)\n",
        "\n",
        "if __name__ == \"__main__\":\n",
        "  comm = MPI.COMM_WORLD\n",
        "  rank = comm.Get_rank()\n",
        "  size = comm.Get_size()\n",
        "  if rank == 0:\n",
        "    array = [1,2,3,4,5,5]\n",
        "  else:\n",
        "    array = None\n",
        "# The collective operation broadcast\n",
        "# sends a particular object to all other nodes\n",
        "  array = comm.bcast(array, root=0)\n",
        "\n",
        "  n = len(array)\n",
        "  n_partitions = 1\n",
        "  for i in range(1,n):\n",
        "    n_partitions = n_partitions * 2\n",
        "\n",
        "  # Now divide the total number of n_partitions\n",
        "  # by the number of participating nodes\n",
        "  chunk_size = n_partitions // size\n",
        "\n",
        "  #\n",
        "  # Every node works on a different portion of the range\n",
        "  #\n",
        "  start = rank * chunk_size\n",
        "  if rank == (size-1):\n",
        "    end = n_partitions\n",
        "  else:\n",
        "    end = start + chunk_size\n",
        "  solutionFound = 0\n",
        "  solution = -1\n",
        "  for i in range(start,end):\n",
        "    if (evaluatePartition(i,n,array) == 1):\n",
        "      solutionFound = 1\n",
        "      solution = i\n",
        "      break\n",
        " #\n",
        " # Now perform a reduction\n",
        " # The result will be place in the root node\n",
        " #\n",
        "  solution = comm.reduce(solution,op=MPI.MAX,root=0)\n",
        "\n",
        "  if rank == 0:\n",
        "    if (solution != -1):\n",
        "      printResults(solution,n,array)\n",
        "    else:\n",
        "      print(\"No solution found for this instance\")\n",
        "\n"
      ],
      "metadata": {
        "colab": {
          "base_uri": "https://localhost:8080/"
        },
        "id": "zv_T3Mm5RpUz",
        "outputId": "65915a58-456e-42b9-b803-8a9da9604af2"
      },
      "execution_count": 9,
      "outputs": [
        {
          "output_type": "stream",
          "name": "stdout",
          "text": [
            "Overwriting partition_mpi.py\n"
          ]
        }
      ]
    },
    {
      "cell_type": "markdown",
      "source": [
        "Now execute the program."
      ],
      "metadata": {
        "id": "m9NRcgPDWddC"
      }
    },
    {
      "cell_type": "code",
      "source": [
        "!OMPI_ALLOW_RUN_AS_ROOT=1\n",
        "!OMPI_ALLOW_RUN_AS_ROOT=1\n",
        "!mpiexec --allow-run-as-root -n 2 --oversubscribe python partition_mpi.py"
      ],
      "metadata": {
        "colab": {
          "base_uri": "https://localhost:8080/"
        },
        "id": "eurRgNq8V8hj",
        "outputId": "5ff90b96-7f4e-4794-beba-cd82c661eb80"
      },
      "execution_count": 10,
      "outputs": [
        {
          "output_type": "stream",
          "name": "stdout",
          "text": [
            "Solution:\n",
            "\n",
            "First partition: \n",
            "2  \n",
            "3  \n",
            "5  \n",
            " sum:  10\n",
            "Second partition: \n",
            "1  \n",
            "4  \n",
            "5  \n",
            " sum: \n",
            " 10\n"
          ]
        }
      ]
    }
  ]
}