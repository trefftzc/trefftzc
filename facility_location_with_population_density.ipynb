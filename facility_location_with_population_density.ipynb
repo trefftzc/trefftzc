{
  "nbformat": 4,
  "nbformat_minor": 0,
  "metadata": {
    "colab": {
      "provenance": [],
      "authorship_tag": "ABX9TyMc+isWyJtiFOzPPDJ7pW9M",
      "include_colab_link": true
    },
    "kernelspec": {
      "name": "python3",
      "display_name": "Python 3"
    },
    "language_info": {
      "name": "python"
    }
  },
  "cells": [
    {
      "cell_type": "markdown",
      "metadata": {
        "id": "view-in-github",
        "colab_type": "text"
      },
      "source": [
        "<a href=\"https://colab.research.google.com/github/trefftzc/trefftzc/blob/main/facility_location_with_population_density.ipynb\" target=\"_parent\"><img src=\"https://colab.research.google.com/assets/colab-badge.svg\" alt=\"Open In Colab\"/></a>"
      ]
    },
    {
      "cell_type": "markdown",
      "source": [
        "## Facility Location considering population density and pygad"
      ],
      "metadata": {
        "id": "07It5q1nreI3"
      }
    },
    {
      "cell_type": "code",
      "execution_count": null,
      "metadata": {
        "colab": {
          "base_uri": "https://localhost:8080/"
        },
        "id": "Z2aBjXoUrcC2",
        "outputId": "a54c417b-ae53-4e56-c4a5-b2093c6e2760"
      },
      "outputs": [
        {
          "output_type": "stream",
          "name": "stdout",
          "text": [
            "Collecting pygad\n",
            "  Downloading pygad-3.3.1-py3-none-any.whl.metadata (19 kB)\n",
            "Requirement already satisfied: cloudpickle in /usr/local/lib/python3.10/dist-packages (from pygad) (3.1.0)\n",
            "Requirement already satisfied: matplotlib in /usr/local/lib/python3.10/dist-packages (from pygad) (3.8.0)\n",
            "Requirement already satisfied: numpy in /usr/local/lib/python3.10/dist-packages (from pygad) (1.26.4)\n",
            "Requirement already satisfied: contourpy>=1.0.1 in /usr/local/lib/python3.10/dist-packages (from matplotlib->pygad) (1.3.1)\n",
            "Requirement already satisfied: cycler>=0.10 in /usr/local/lib/python3.10/dist-packages (from matplotlib->pygad) (0.12.1)\n",
            "Requirement already satisfied: fonttools>=4.22.0 in /usr/local/lib/python3.10/dist-packages (from matplotlib->pygad) (4.55.3)\n",
            "Requirement already satisfied: kiwisolver>=1.0.1 in /usr/local/lib/python3.10/dist-packages (from matplotlib->pygad) (1.4.7)\n",
            "Requirement already satisfied: packaging>=20.0 in /usr/local/lib/python3.10/dist-packages (from matplotlib->pygad) (24.2)\n",
            "Requirement already satisfied: pillow>=6.2.0 in /usr/local/lib/python3.10/dist-packages (from matplotlib->pygad) (11.0.0)\n",
            "Requirement already satisfied: pyparsing>=2.3.1 in /usr/local/lib/python3.10/dist-packages (from matplotlib->pygad) (3.2.0)\n",
            "Requirement already satisfied: python-dateutil>=2.7 in /usr/local/lib/python3.10/dist-packages (from matplotlib->pygad) (2.8.2)\n",
            "Requirement already satisfied: six>=1.5 in /usr/local/lib/python3.10/dist-packages (from python-dateutil>=2.7->matplotlib->pygad) (1.17.0)\n",
            "Downloading pygad-3.3.1-py3-none-any.whl (84 kB)\n",
            "\u001b[2K   \u001b[90m━━━━━━━━━━━━━━━━━━━━━━━━━━━━━━━━━━━━━━━━\u001b[0m \u001b[32m84.1/84.1 kB\u001b[0m \u001b[31m5.8 MB/s\u001b[0m eta \u001b[36m0:00:00\u001b[0m\n",
            "\u001b[?25hInstalling collected packages: pygad\n",
            "Successfully installed pygad-3.3.1\n"
          ]
        }
      ],
      "source": [
        "!pip install pygad"
      ]
    },
    {
      "cell_type": "code",
      "source": [
        "import matplotlib.pyplot as plt"
      ],
      "metadata": {
        "id": "jJGsimE_uBTv"
      },
      "execution_count": null,
      "outputs": []
    },
    {
      "cell_type": "code",
      "source": [
        "%matplotlib inline"
      ],
      "metadata": {
        "id": "awUNJhH8t9gH"
      },
      "execution_count": null,
      "outputs": []
    },
    {
      "cell_type": "code",
      "source": [
        "import pygad\n",
        "import numpy\n",
        "import math\n",
        "import matplotlib.pyplot as plt\n",
        "import numpy as np\n",
        "\n",
        "density = [ [1,1,1,1,1,1,1,1,1,1,1,1,1,1,1,1],\n",
        "            [1,1,1,1,1,1,1,1,1,1,1,1,1,1,1,1],\n",
        "            [1,1,1,1,1,1,1,1,1,1,1,1,1,1,1,1],\n",
        "            [1,1,1,1,1,1,1,1,1,1,1,1,1,1,1,1],\n",
        "            [1,1,1,1,1,1,1,1,1,1,1,1,1,1,1,1],\n",
        "            [1,1,1,1,1,1,1,1,1,1,1,1,1,1,1,1],\n",
        "            [1,1,1,1,1,1,1,1,1,1,1,1,1,1,1,1],\n",
        "            [1,1,1,1,1,1,1,1,1,1,1,1,1,1,1,1],\n",
        "            [1,1,1,1,1,1,1,1,1,1,1,1,1,1,1,1],\n",
        "            [1,1,1,1,1,1,1,1,1,1,1,1,1,1,1,1],\n",
        "            [1,1,1,1,1,1,1,1,1,1,1,1,1,1,1,1],\n",
        "            [1,1,1,1,1,1,1,1,1,1,1,1,1,1,1,1],\n",
        "            [1,1,1,1,1,1,1,1,1,1,1,1,25,25,25,25],\n",
        "            [1,1,1,1,1,1,1,1,1,1,1,1,25,25,25,25],\n",
        "            [1,1,1,1,1,1,1,1,1,1,1,1,25,25,25,25],\n",
        "            [1,1,1,1,1,1,1,1,1,1,1,1,25,25,25,25]]\n",
        "\n",
        "locations = [[0,0],\n",
        "            [0,15],\n",
        "            [15,0],\n",
        "            [15,15]]\n",
        "\n",
        "contribution = [[0.0]*16 for i in range(16) ]\n",
        "distanceToLocation = [[0.0]*16 for i in range(16)]\n",
        "\n",
        "#print(contribution)\n",
        "\n",
        "def distance(x1,y1,x2,y2):\n",
        "      return math.sqrt((x1-x2)**2 + (y1-y2)**2)\n",
        "\n",
        "def calcContribution():\n",
        "    for i in range(16):\n",
        "        for j in range(16):\n",
        "            closestDistance = math.inf\n",
        "            for k in range(len(locations)):\n",
        "                thisDistance = distance(i,j,locations[k][0],locations[k][1])\n",
        "                if thisDistance < closestDistance:\n",
        "                    closestDistance = thisDistance\n",
        "            distanceToLocation[i][j] = closestDistance\n",
        "            contribution[i][j] = closestDistance*density[i][j]\n",
        "\n",
        "\n",
        "calcContribution()\n",
        "print(\"Distances to the closest seed: \")\n",
        "for i in range(16):\n",
        "    for j in range(16):\n",
        "        print(\"%.2f\"%distanceToLocation[i][j],end=\" \",)\n",
        "    print()\n",
        "\n",
        "print(\"----------------------\")\n",
        "print(\"Contribution to total cost: \")\n",
        "for i in range(16):\n",
        "    for j in range(16):\n",
        "        print(\"%.2f\"%contribution[i][j],end=\" \",)\n",
        "    print()\n",
        "\n",
        "\n",
        "def fitness_func(ga_instance, solution, solution_idx):\n",
        "    thisx = solution[0]\n",
        "    thisy = solution[1]\n",
        "    totalCost = 0.0\n",
        "    for i in range(16):\n",
        "        for j in range(16):\n",
        "            thisDistance = distance(thisx,thisy,i,j)\n",
        "            if thisDistance < distanceToLocation[i][j]:\n",
        "                totalCost = totalCost + (thisDistance*density[i][j])\n",
        "            else:\n",
        "                totalCost = totalCost + contribution[i][j]\n",
        "    return 1.0 / totalCost\n",
        "\n",
        "function_input = [8,8]\n",
        "\n",
        "fitness_function = fitness_func\n",
        "\n",
        "num_generations = 20\n",
        "num_parents_mating = 4\n",
        "\n",
        "sol_per_pop = 8\n",
        "num_genes = len(function_input)\n",
        "\n",
        "init_range_low = 0\n",
        "init_range_high = 15\n",
        "\n",
        "parent_selection_type = \"sss\"\n",
        "keep_parents = 1\n",
        "\n",
        "crossover_type = \"single_point\"\n",
        "mutation_type = \"random\"\n",
        "mutation_percent_genes = 40\n",
        "\n",
        "ga_instance = pygad.GA(num_generations=num_generations,\n",
        "                       num_parents_mating=num_parents_mating,\n",
        "                       fitness_func=fitness_function,\n",
        "                       sol_per_pop=sol_per_pop,\n",
        "                       num_genes=num_genes,\n",
        "                       init_range_low=init_range_low,\n",
        "                       init_range_high=init_range_high,\n",
        "                       parent_selection_type=parent_selection_type,\n",
        "                       keep_parents=keep_parents,\n",
        "                       crossover_type=crossover_type,\n",
        "                       mutation_type=mutation_type,\n",
        "                       mutation_percent_genes=mutation_percent_genes)\n",
        "\n",
        "ga_instance.run()\n",
        "\n",
        "solution, solution_fitness, solution_idx = ga_instance.best_solution()\n",
        "print(\"Parameters of the best solution : {solution}\".format(solution=solution))\n",
        "print(\"Fitness value of the best solution = {solution_fitness}\".format(solution_fitness=solution_fitness))\n",
        "\n",
        "print(\"Predicted total cost: \",(1.0/solution_fitness))\n",
        "\n",
        "# Initial location of the seeds\n",
        "initial_facility_locations =np.zeros(shape=(16,16),dtype=np.uint16)\n",
        "\n",
        "for i in range(len(locations)):\n",
        "    initial_facility_locations[(locations[i][0])][(locations[i][1])] = 3\n",
        "print(\"The initial facility locations: \")\n",
        "plt.matshow(initial_facility_locations)\n",
        "# plt.colorbar() # Add a colorbar to interpret the colors\n",
        "plt.show()\n",
        "\n",
        "# ga_instance.plot_fitness()\n",
        "print(\"The density information: \")\n",
        "plt.matshow(density)\n",
        "plt.colorbar() # Add a colorbar to interpret the colors\n",
        "plt.show()\n",
        "\n",
        "# Calculate the initial distribution\n",
        "initial_closest_locations = np.zeros(shape=(16,16),dtype=np.uint16)\n",
        "for i in range(16):\n",
        "    for j in range(16):\n",
        "        closest_distance = math.inf\n",
        "        closest_location = -1\n",
        "        for k in range(len(locations)):\n",
        "            this_distance = distance(i,j,locations[k][0],locations[k][1])\n",
        "            if this_distance < closest_distance:\n",
        "                closest_distance = this_distance\n",
        "                closest_location = k\n",
        "        initial_closest_locations[i][j] = closest_location\n",
        "print(\"The initial closest locations: \")\n",
        "plt.matshow(initial_closest_locations)\n",
        "plt.colorbar() # Add a colorbar to interpret the colors\n",
        "plt.show()\n",
        "# Initial location of the seeds\n",
        "final_facility_locations = initial_facility_locations.copy()\n",
        "final_facility_locations[int(solution[0])][int(solution[1])] = 3\n",
        "print(\"The final facility locations: \")\n",
        "plt.matshow(final_facility_locations)\n"
      ],
      "metadata": {
        "colab": {
          "base_uri": "https://localhost:8080/",
          "height": 1000
        },
        "id": "LOoa_m1Zr0jv",
        "outputId": "4d0e7f9d-fce7-4d31-de01-728575deb5ad"
      },
      "execution_count": null,
      "outputs": [
        {
          "output_type": "stream",
          "name": "stdout",
          "text": [
            "Distances to the closest seed: \n",
            "0.00 1.00 2.00 3.00 4.00 5.00 6.00 7.00 7.00 6.00 5.00 4.00 3.00 2.00 1.00 0.00 \n",
            "1.00 1.41 2.24 3.16 4.12 5.10 6.08 7.07 7.07 6.08 5.10 4.12 3.16 2.24 1.41 1.00 \n",
            "2.00 2.24 2.83 3.61 4.47 5.39 6.32 7.28 7.28 6.32 5.39 4.47 3.61 2.83 2.24 2.00 \n",
            "3.00 3.16 3.61 4.24 5.00 5.83 6.71 7.62 7.62 6.71 5.83 5.00 4.24 3.61 3.16 3.00 \n",
            "4.00 4.12 4.47 5.00 5.66 6.40 7.21 8.06 8.06 7.21 6.40 5.66 5.00 4.47 4.12 4.00 \n",
            "5.00 5.10 5.39 5.83 6.40 7.07 7.81 8.60 8.60 7.81 7.07 6.40 5.83 5.39 5.10 5.00 \n",
            "6.00 6.08 6.32 6.71 7.21 7.81 8.49 9.22 9.22 8.49 7.81 7.21 6.71 6.32 6.08 6.00 \n",
            "7.00 7.07 7.28 7.62 8.06 8.60 9.22 9.90 9.90 9.22 8.60 8.06 7.62 7.28 7.07 7.00 \n",
            "7.00 7.07 7.28 7.62 8.06 8.60 9.22 9.90 9.90 9.22 8.60 8.06 7.62 7.28 7.07 7.00 \n",
            "6.00 6.08 6.32 6.71 7.21 7.81 8.49 9.22 9.22 8.49 7.81 7.21 6.71 6.32 6.08 6.00 \n",
            "5.00 5.10 5.39 5.83 6.40 7.07 7.81 8.60 8.60 7.81 7.07 6.40 5.83 5.39 5.10 5.00 \n",
            "4.00 4.12 4.47 5.00 5.66 6.40 7.21 8.06 8.06 7.21 6.40 5.66 5.00 4.47 4.12 4.00 \n",
            "3.00 3.16 3.61 4.24 5.00 5.83 6.71 7.62 7.62 6.71 5.83 5.00 4.24 3.61 3.16 3.00 \n",
            "2.00 2.24 2.83 3.61 4.47 5.39 6.32 7.28 7.28 6.32 5.39 4.47 3.61 2.83 2.24 2.00 \n",
            "1.00 1.41 2.24 3.16 4.12 5.10 6.08 7.07 7.07 6.08 5.10 4.12 3.16 2.24 1.41 1.00 \n",
            "0.00 1.00 2.00 3.00 4.00 5.00 6.00 7.00 7.00 6.00 5.00 4.00 3.00 2.00 1.00 0.00 \n",
            "----------------------\n",
            "Contribution to total cost: \n",
            "0.00 1.00 2.00 3.00 4.00 5.00 6.00 7.00 7.00 6.00 5.00 4.00 3.00 2.00 1.00 0.00 \n",
            "1.00 1.41 2.24 3.16 4.12 5.10 6.08 7.07 7.07 6.08 5.10 4.12 3.16 2.24 1.41 1.00 \n",
            "2.00 2.24 2.83 3.61 4.47 5.39 6.32 7.28 7.28 6.32 5.39 4.47 3.61 2.83 2.24 2.00 \n",
            "3.00 3.16 3.61 4.24 5.00 5.83 6.71 7.62 7.62 6.71 5.83 5.00 4.24 3.61 3.16 3.00 \n",
            "4.00 4.12 4.47 5.00 5.66 6.40 7.21 8.06 8.06 7.21 6.40 5.66 5.00 4.47 4.12 4.00 \n",
            "5.00 5.10 5.39 5.83 6.40 7.07 7.81 8.60 8.60 7.81 7.07 6.40 5.83 5.39 5.10 5.00 \n",
            "6.00 6.08 6.32 6.71 7.21 7.81 8.49 9.22 9.22 8.49 7.81 7.21 6.71 6.32 6.08 6.00 \n",
            "7.00 7.07 7.28 7.62 8.06 8.60 9.22 9.90 9.90 9.22 8.60 8.06 7.62 7.28 7.07 7.00 \n",
            "7.00 7.07 7.28 7.62 8.06 8.60 9.22 9.90 9.90 9.22 8.60 8.06 7.62 7.28 7.07 7.00 \n",
            "6.00 6.08 6.32 6.71 7.21 7.81 8.49 9.22 9.22 8.49 7.81 7.21 6.71 6.32 6.08 6.00 \n",
            "5.00 5.10 5.39 5.83 6.40 7.07 7.81 8.60 8.60 7.81 7.07 6.40 5.83 5.39 5.10 5.00 \n",
            "4.00 4.12 4.47 5.00 5.66 6.40 7.21 8.06 8.06 7.21 6.40 5.66 5.00 4.47 4.12 4.00 \n",
            "3.00 3.16 3.61 4.24 5.00 5.83 6.71 7.62 7.62 6.71 5.83 5.00 106.07 90.14 79.06 75.00 \n",
            "2.00 2.24 2.83 3.61 4.47 5.39 6.32 7.28 7.28 6.32 5.39 4.47 90.14 70.71 55.90 50.00 \n",
            "1.00 1.41 2.24 3.16 4.12 5.10 6.08 7.07 7.07 6.08 5.10 4.12 79.06 55.90 35.36 25.00 \n",
            "0.00 1.00 2.00 3.00 4.00 5.00 6.00 7.00 7.00 6.00 5.00 4.00 75.00 50.00 25.00 0.00 \n"
          ]
        },
        {
          "output_type": "stream",
          "name": "stderr",
          "text": [
            "/usr/local/lib/python3.10/dist-packages/pygad/pygad.py:748: UserWarning: The percentage of genes to mutate (mutation_percent_genes=40) resulted in selecting (0) genes. The number of genes to mutate is set to 1 (mutation_num_genes=1).\n",
            "If you do not want to mutate any gene, please set mutation_type=None.\n",
            "  warnings.warn(f\"The percentage of genes to mutate (mutation_percent_genes={mutation_percent_genes}) resulted in selecting ({mutation_num_genes}) genes. The number of genes to mutate is set to 1 (mutation_num_genes=1).\\nIf you do not want to mutate any gene, please set mutation_type=None.\")\n",
            "/usr/local/lib/python3.10/dist-packages/pygad/pygad.py:1139: UserWarning: The 'delay_after_gen' parameter is deprecated starting from PyGAD 3.3.0. To delay or pause the evolution after each generation, assign a callback function/method to the 'on_generation' parameter to adds some time delay.\n",
            "  warnings.warn(\"The 'delay_after_gen' parameter is deprecated starting from PyGAD 3.3.0. To delay or pause the evolution after each generation, assign a callback function/method to the 'on_generation' parameter to adds some time delay.\")\n"
          ]
        },
        {
          "output_type": "stream",
          "name": "stdout",
          "text": [
            "Parameters of the best solution : [12.68157353 12.7405505 ]\n",
            "Fitness value of the best solution = 0.0005818303913770107\n",
            "Predicted total cost:  1718.7139324800694\n",
            "The initial facility locations: \n"
          ]
        },
        {
          "output_type": "display_data",
          "data": {
            "text/plain": [
              "<Figure size 480x480 with 1 Axes>"
            ],
            "image/png": "[encoded data removed]"
          },
          "metadata": {}
        },
        {
          "output_type": "stream",
          "name": "stdout",
          "text": [
            "The density information: \n"
          ]
        },
        {
          "output_type": "display_data",
          "data": {
            "text/plain": [
              "<Figure size 480x480 with 2 Axes>"
            ],
            "image/png": "[encoded data removed]"
          },
          "metadata": {}
        },
        {
          "output_type": "stream",
          "name": "stdout",
          "text": [
            "The initial closest locations: \n"
          ]
        },
        {
          "output_type": "display_data",
          "data": {
            "text/plain": [
              "<Figure size 480x480 with 2 Axes>"
            ],
            "image/png": "[encoded data removed]"
          },
          "metadata": {}
        },
        {
          "output_type": "stream",
          "name": "stdout",
          "text": [
            "The final facility locations: \n"
          ]
        },
        {
          "output_type": "execute_result",
          "data": {
            "text/plain": [
              "<matplotlib.image.AxesImage at 0x798dd7edd2a0>"
            ]
          },
          "metadata": {},
          "execution_count": 15
        },
        {
          "output_type": "display_data",
          "data": {
            "text/plain": [
              "<Figure size 480x480 with 1 Axes>"
            ],
            "image/png": "[encoded data removed]"
          },
          "metadata": {}
        }
      ]
    },
    {
      "cell_type": "code",
      "source": [],
      "metadata": {
        "colab": {
          "base_uri": "https://localhost:8080/"
        },
        "id": "PumA7Q1ksOWH",
        "outputId": "2dd69afc-9663-4660-86ef-1fc8f67276ef"
      },
      "execution_count": null,
      "outputs": [
        {
          "output_type": "stream",
          "name": "stdout",
          "text": [
            "Distances to the closest seed: \n",
            "0.00 1.00 2.00 3.00 4.00 5.00 6.00 7.00 7.00 6.00 5.00 4.00 3.00 2.00 1.00 0.00 \n",
            "1.00 1.41 2.24 3.16 4.12 5.10 6.08 7.07 7.07 6.08 5.10 4.12 3.16 2.24 1.41 1.00 \n",
            "2.00 2.24 2.83 3.61 4.47 5.39 6.32 7.28 7.28 6.32 5.39 4.47 3.61 2.83 2.24 2.00 \n",
            "3.00 3.16 3.61 4.24 5.00 5.83 6.71 7.62 7.62 6.71 5.83 5.00 4.24 3.61 3.16 3.00 \n",
            "4.00 4.12 4.47 5.00 5.66 6.40 7.21 8.06 8.06 7.21 6.40 5.66 5.00 4.47 4.12 4.00 \n",
            "5.00 5.10 5.39 5.83 6.40 7.07 7.81 8.60 8.60 7.81 7.07 6.40 5.83 5.39 5.10 5.00 \n",
            "6.00 6.08 6.32 6.71 7.21 7.81 8.49 9.22 9.22 8.49 7.81 7.21 6.71 6.32 6.08 6.00 \n",
            "7.00 7.07 7.28 7.62 8.06 8.60 9.22 9.90 9.90 9.22 8.60 8.06 7.62 7.28 7.07 7.00 \n",
            "7.00 7.07 7.28 7.62 8.06 8.60 9.22 9.90 9.90 9.22 8.60 8.06 7.62 7.28 7.07 7.00 \n",
            "6.00 6.08 6.32 6.71 7.21 7.81 8.49 9.22 9.22 8.49 7.81 7.21 6.71 6.32 6.08 6.00 \n",
            "5.00 5.10 5.39 5.83 6.40 7.07 7.81 8.60 8.60 7.81 7.07 6.40 5.83 5.39 5.10 5.00 \n",
            "4.00 4.12 4.47 5.00 5.66 6.40 7.21 8.06 8.06 7.21 6.40 5.66 5.00 4.47 4.12 4.00 \n",
            "3.00 3.16 3.61 4.24 5.00 5.83 6.71 7.62 7.62 6.71 5.83 5.00 4.24 3.61 3.16 3.00 \n",
            "2.00 2.24 2.83 3.61 4.47 5.39 6.32 7.28 7.28 6.32 5.39 4.47 3.61 2.83 2.24 2.00 \n",
            "1.00 1.41 2.24 3.16 4.12 5.10 6.08 7.07 7.07 6.08 5.10 4.12 3.16 2.24 1.41 1.00 \n",
            "0.00 1.00 2.00 3.00 4.00 5.00 6.00 7.00 7.00 6.00 5.00 4.00 3.00 2.00 1.00 0.00 \n",
            "----------------------\n",
            "Contribution to total cost: \n",
            "0.00 1.00 2.00 3.00 4.00 5.00 6.00 7.00 7.00 6.00 5.00 4.00 3.00 2.00 1.00 0.00 \n",
            "1.00 1.41 2.24 3.16 4.12 5.10 6.08 7.07 7.07 6.08 5.10 4.12 3.16 2.24 1.41 1.00 \n",
            "2.00 2.24 2.83 3.61 4.47 5.39 6.32 7.28 7.28 6.32 5.39 4.47 3.61 2.83 2.24 2.00 \n",
            "3.00 3.16 3.61 4.24 5.00 5.83 6.71 7.62 7.62 6.71 5.83 5.00 4.24 3.61 3.16 3.00 \n",
            "4.00 4.12 4.47 5.00 5.66 6.40 7.21 8.06 8.06 7.21 6.40 5.66 5.00 4.47 4.12 4.00 \n",
            "5.00 5.10 5.39 5.83 6.40 7.07 7.81 8.60 8.60 7.81 7.07 6.40 5.83 5.39 5.10 5.00 \n",
            "6.00 6.08 6.32 6.71 7.21 7.81 8.49 9.22 9.22 8.49 7.81 7.21 6.71 6.32 6.08 6.00 \n",
            "7.00 7.07 7.28 7.62 8.06 8.60 9.22 9.90 9.90 9.22 8.60 8.06 7.62 7.28 7.07 7.00 \n",
            "7.00 7.07 7.28 7.62 8.06 8.60 9.22 9.90 9.90 9.22 8.60 8.06 7.62 7.28 7.07 7.00 \n",
            "6.00 6.08 6.32 6.71 7.21 7.81 8.49 9.22 9.22 8.49 7.81 7.21 6.71 6.32 6.08 6.00 \n",
            "5.00 5.10 5.39 5.83 6.40 7.07 7.81 8.60 8.60 7.81 7.07 6.40 5.83 5.39 5.10 5.00 \n",
            "4.00 4.12 4.47 5.00 5.66 6.40 7.21 8.06 8.06 7.21 6.40 5.66 5.00 4.47 4.12 4.00 \n",
            "3.00 3.16 3.61 4.24 5.00 5.83 6.71 7.62 7.62 6.71 5.83 5.00 106.07 90.14 79.06 75.00 \n",
            "2.00 2.24 2.83 3.61 4.47 5.39 6.32 7.28 7.28 6.32 5.39 4.47 90.14 70.71 55.90 50.00 \n",
            "1.00 1.41 2.24 3.16 4.12 5.10 6.08 7.07 7.07 6.08 5.10 4.12 79.06 55.90 35.36 25.00 \n",
            "0.00 1.00 2.00 3.00 4.00 5.00 6.00 7.00 7.00 6.00 5.00 4.00 75.00 50.00 25.00 0.00 \n",
            "/usr/local/lib/python3.10/dist-packages/pygad/pygad.py:748: UserWarning: The percentage of genes to mutate (mutation_percent_genes=40) resulted in selecting (0) genes. The number of genes to mutate is set to 1 (mutation_num_genes=1).\n",
            "If you do not want to mutate any gene, please set mutation_type=None.\n",
            "  warnings.warn(f\"The percentage of genes to mutate (mutation_percent_genes={mutation_percent_genes}) resulted in selecting ({mutation_num_genes}) genes. The number of genes to mutate is set to 1 (mutation_num_genes=1).\\nIf you do not want to mutate any gene, please set mutation_type=None.\")\n",
            "/usr/local/lib/python3.10/dist-packages/pygad/pygad.py:1139: UserWarning: The 'delay_after_gen' parameter is deprecated starting from PyGAD 3.3.0. To delay or pause the evolution after each generation, assign a callback function/method to the 'on_generation' parameter to adds some time delay.\n",
            "  warnings.warn(\"The 'delay_after_gen' parameter is deprecated starting from PyGAD 3.3.0. To delay or pause the evolution after each generation, assign a callback function/method to the 'on_generation' parameter to adds some time delay.\")\n",
            "Parameters of the best solution : [12.72892162 12.76539354]\n",
            "Fitness value of the best solution = 0.0005819034182184263\n",
            "Predicted total cost:  1718.4982398997265\n",
            "The density information: \n",
            "Figure(480x480)\n"
          ]
        }
      ]
    }
  ]
}