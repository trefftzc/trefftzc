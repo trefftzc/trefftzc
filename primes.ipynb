{
  "nbformat": 4,
  "nbformat_minor": 0,
  "metadata": {
    "colab": {
      "provenance": [],
      "authorship_tag": "ABX9TyNvxo61MXTvHV7FT1+TBO7y",
      "include_colab_link": true
    },
    "kernelspec": {
      "name": "python3",
      "display_name": "Python 3"
    },
    "language_info": {
      "name": "python"
    }
  },
  "cells": [
    {
      "cell_type": "markdown",
      "metadata": {
        "id": "view-in-github",
        "colab_type": "text"
      },
      "source": [
        "<a href=\"https://colab.research.google.com/github/trefftzc/trefftzc/blob/main/primes.ipynb\" target=\"_parent\"><img src=\"https://colab.research.google.com/assets/colab-badge.svg\" alt=\"Open In Colab\"/></a>"
      ]
    },
    {
      "cell_type": "code",
      "execution_count": null,
      "metadata": {
        "id": "Co_mj1bXeETe"
      },
      "outputs": [],
      "source": []
    },
    {
      "cell_type": "markdown",
      "source": [
        "# Code to find how many primes numbers there are between 0 and 10,000,000\n",
        "\n",
        "The code below calculates how many prime numbers there are between 0 and 10,000,000.\n",
        "\n",
        "The function isPrime(n) receives as a parameter an integer positive n and returns 0 if it is not a prime or 1 if n is a prime.\n"
      ],
      "metadata": {
        "id": "jdT_EwvjeExl"
      }
    },
    {
      "cell_type": "code",
      "source": [
        "#\n",
        "# How many primes are there between 1 and 10,000,000?\n",
        "#\n",
        "import numpy as np\n",
        "import math\n",
        "import time\n",
        "\n",
        "def isPrime(n):\n",
        "    if n == 0:\n",
        "        return 0\n",
        "    nAsFloat = float(n)\n",
        "    squareRootOfNAsFloat = math.sqrt(nAsFloat)\n",
        "    squareRootOfNAsInt = int(squareRootOfNAsFloat) + 1\n",
        "    for i in range(2,squareRootOfNAsInt):\n",
        "        if (n % i == 0):\n",
        "            return 0\n",
        "    return 1\n",
        "\n",
        "if __name__ == \"__main__\":\n",
        "    start = time.time()\n",
        "    array = np.zeros(10000000,dtype=np.int8)\n",
        "    for i in range(10000000):\n",
        "        array[i] = isPrime(i)\n",
        "    result = np.sum(array)\n",
        "    end = time.time()\n",
        "    elapsed = end - start\n",
        "    print(result)\n",
        "    print(\"It took: \",elapsed,\" seconds.\")"
      ],
      "metadata": {
        "colab": {
          "base_uri": "https://localhost:8080/"
        },
        "id": "-CzJYX9yeX5z",
        "outputId": "47713c45-8baf-4d4f-82b4-6d3f17fdde82"
      },
      "execution_count": 1,
      "outputs": [
        {
          "output_type": "stream",
          "name": "stdout",
          "text": [
            "664580\n",
            "It took:  162.96354222297668  seconds.\n"
          ]
        }
      ]
    }
  ]
}