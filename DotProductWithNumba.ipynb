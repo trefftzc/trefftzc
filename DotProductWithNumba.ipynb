{
  "nbformat": 4,
  "nbformat_minor": 0,
  "metadata": {
    "colab": {
      "provenance": [],
      "collapsed_sections": [],
      "authorship_tag": "ABX9TyMab3sCSvRchMeeMrK6xNxB",
      "include_colab_link": true
    },
    "kernelspec": {
      "name": "python3",
      "display_name": "Python 3"
    },
    "language_info": {
      "name": "python"
    },
    "accelerator": "GPU"
  },
  "cells": [
    {
      "cell_type": "markdown",
      "metadata": {
        "id": "view-in-github",
        "colab_type": "text"
      },
      "source": [
        "<a href=\"https://colab.research.google.com/github/trefftzc/trefftzc/blob/main/DotProductWithNumba.ipynb\" target=\"_parent\"><img src=\"https://colab.research.google.com/assets/colab-badge.svg\" alt=\"Open In Colab\"/></a>"
      ]
    },
    {
      "cell_type": "markdown",
      "source": [
        "Exploring how to use numba in Google Colab\n",
        "Based on this example:\n",
        " https://colab.research.google.com/github/cbernet/maldives/blob/master/numba/numba_cuda.ipynb#scrollTo=y1ge-bW_ajh5\n",
        " "
      ],
      "metadata": {
        "id": "HJCEKULxR32y"
      }
    },
    {
      "cell_type": "code",
      "execution_count": 1,
      "metadata": {
        "colab": {
          "base_uri": "https://localhost:8080/"
        },
        "id": "OdOwSdbCRylz",
        "outputId": "cc3d02f8-241c-4ff0-f287-0165ed98e62e"
      },
      "outputs": [
        {
          "output_type": "stream",
          "name": "stdout",
          "text": [
            "/usr/local/lib/python3.7/dist-packages/jaxlib/cuda/nvvm/libdevice\n",
            "/usr/local/cuda-11.2/nvvm/libdevice\n",
            "/usr/local/cuda-11.2/nvvm-prev/libdevice\n",
            "find: ‘/proc/27/task/27/net’: Invalid argument\n",
            "find: ‘/proc/27/net’: Invalid argument\n",
            "/usr/local/cuda-11.2/nvvm/lib64/libnvvm.so\n",
            "/usr/local/cuda-11.2/nvvm-prev/lib64/libnvvm.so\n",
            "find: ‘/proc/27/task/27/net’: Invalid argument\n",
            "find: ‘/proc/27/net’: Invalid argument\n",
            "find: ‘/proc/107’: No such file or directory\n",
            "find: ‘/proc/108’: No such file or directory\n"
          ]
        }
      ],
      "source": [
        "!find / -iname 'libdevice'\n",
        "!find / -iname 'libnvvm.so'"
      ]
    },
    {
      "cell_type": "code",
      "source": [
        "import os\n",
        "os.environ['NUMBAPRO_LIBDEVICE'] = \"/usr/local/cuda-11.2/nvvm/libdevice\"\n",
        "os.environ['NUMBAPRO_NVVM'] = \"/usr/local/cuda-11.2/nvvm/lib64/libnvvm.so\""
      ],
      "metadata": {
        "id": "P2dRMv9iR_8i"
      },
      "execution_count": 2,
      "outputs": []
    },
    {
      "cell_type": "code",
      "source": [],
      "metadata": {
        "id": "WDT8oMftSz0Y"
      },
      "execution_count": null,
      "outputs": []
    },
    {
      "cell_type": "code",
      "metadata": {
        "id": "i9XdnHRBfunN",
        "colab": {
          "base_uri": "https://localhost:8080/"
        },
        "outputId": "8cc80387-a439-49b5-a432-17b03661a307"
      },
      "source": [
        "from numba import cuda\n",
        "import numpy as np\n",
        "\n",
        "@cuda.jit\n",
        "def dotProduct(array1,array2,array3): \n",
        "  pos = cuda.grid(1)\n",
        "  if pos < array1.size:\n",
        "    array3[pos] = array1[pos]*array2[pos]\n",
        "  \n",
        "\n",
        "n = 1000\n",
        "\n",
        "a_cpu = np.linspace(1.0,1000.0,1000)\n",
        "b_cpu = np.linspace(1.0,1000.0,1000)\n",
        "c_cpu = np.zeros(1,dtype=np.float32)\n",
        "\n",
        "c_gpu = cuda.device_array(shape=(n,),dtype=np.float32)\n",
        "for i in range(0,n):\n",
        "  a_cpu[i] = i*1.0\n",
        "  b_cpu[i] = i*1.0\n",
        "\n",
        "a_gpu = cuda.to_device(a_cpu)\n",
        "b_gpu = cuda.to_device(b_cpu)\n",
        "\n",
        "\n",
        "threadsperblock = 32\n",
        "blockspergrid = (a_gpu.size + (threadsperblock - 1)) // threadsperblock\n",
        "dotProduct[blockspergrid, threadsperblock](a_gpu,b_gpu,c_gpu)\n",
        "\n",
        "c_cpu = c_gpu.copy_to_host()\n",
        "\n",
        "for i in range(0,10):\n",
        "  print(c_cpu[i])\n",
        "\n",
        "\n",
        "\n",
        "    "
      ],
      "execution_count": 3,
      "outputs": [
        {
          "output_type": "stream",
          "name": "stderr",
          "text": [
            "/usr/local/lib/python3.7/dist-packages/numba/cuda/dispatcher.py:488: NumbaPerformanceWarning: Grid size 32 will likely result in GPU under-utilization due to low occupancy.\n",
            "  warn(NumbaPerformanceWarning(msg))\n"
          ]
        },
        {
          "output_type": "stream",
          "name": "stdout",
          "text": [
            "0.0\n",
            "1.0\n",
            "4.0\n",
            "9.0\n",
            "16.0\n",
            "25.0\n",
            "36.0\n",
            "49.0\n",
            "64.0\n",
            "81.0\n"
          ]
        }
      ]
    }
  ]
}